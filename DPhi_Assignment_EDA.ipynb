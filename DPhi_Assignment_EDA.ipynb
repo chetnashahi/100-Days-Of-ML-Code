{
  "nbformat": 4,
  "nbformat_minor": 0,
  "metadata": {
    "colab": {
      "name": "Untitled1.ipynb",
      "provenance": [],
      "authorship_tag": "ABX9TyOLv0EIxKJX9XHbBZWtJr6T",
      "include_colab_link": true
    },
    "kernelspec": {
      "name": "python3",
      "display_name": "Python 3"
    }
  },
  "cells": [
    {
      "cell_type": "markdown",
      "metadata": {
        "id": "view-in-github",
        "colab_type": "text"
      },
      "source": [
        "<a href=\"https://colab.research.google.com/github/chetnashahi/100-Days-Of-ML-Code/blob/master/DPhi_Assignment_EDA.ipynb\" target=\"_parent\"><img src=\"https://colab.research.google.com/assets/colab-badge.svg\" alt=\"Open In Colab\"/></a>"
      ]
    },
    {
      "cell_type": "code",
      "metadata": {
        "id": "X2Ij24mWo22I"
      },
      "source": [
        "import pandas as pd \n",
        "url = 'https://drive.google.com/file/d/1QcKzIJlO6WRUH4IkrKAvDmBVEipXkeQb/view?usp=sharing'\n",
        "\n",
        "path = 'https://drive.google.com/uc?export=download&id='+url.split('/')[-2]\n",
        "\n",
        "data = pd.read_csv(path)"
      ],
      "execution_count": 2,
      "outputs": []
    },
    {
      "cell_type": "code",
      "metadata": {
        "id": "owAqhu-qpLVD"
      },
      "source": [
        "pd.options.display.float_format = '{:,.4f}'.format"
      ],
      "execution_count": 11,
      "outputs": []
    },
    {
      "cell_type": "code",
      "metadata": {
        "colab": {
          "base_uri": "https://localhost:8080/"
        },
        "id": "A94eBjWpNC4v",
        "outputId": "3c97a408-bedc-42d2-9230-919692c1d9b8"
      },
      "source": [
        "data.columns"
      ],
      "execution_count": 14,
      "outputs": [
        {
          "output_type": "execute_result",
          "data": {
            "text/plain": [
              "Index(['VendorID', 'tpep_pickup_datetime', 'tpep_dropoff_datetime',\n",
              "       'passenger_count', 'PULocationID', 'DOLocationID', 'fare_amount'],\n",
              "      dtype='object')"
            ]
          },
          "metadata": {
            "tags": []
          },
          "execution_count": 14
        }
      ]
    },
    {
      "cell_type": "code",
      "metadata": {
        "colab": {
          "base_uri": "https://localhost:8080/"
        },
        "id": "4f6dEAa4Wui2",
        "outputId": "c3fdecce-447b-45c2-d042-3bea195ff7de"
      },
      "source": [
        "data.info()"
      ],
      "execution_count": 55,
      "outputs": [
        {
          "output_type": "stream",
          "text": [
            "<class 'pandas.core.frame.DataFrame'>\n",
            "RangeIndex: 1243241 entries, 0 to 1243240\n",
            "Data columns (total 7 columns):\n",
            " #   Column                 Non-Null Count    Dtype  \n",
            "---  ------                 --------------    -----  \n",
            " 0   VendorID               1227632 non-null  float64\n",
            " 1   tpep_pickup_datetime   1243241 non-null  object \n",
            " 2   tpep_dropoff_datetime  1243241 non-null  object \n",
            " 3   passenger_count        1227632 non-null  float64\n",
            " 4   PULocationID           1243241 non-null  int64  \n",
            " 5   DOLocationID           1243241 non-null  int64  \n",
            " 6   fare_amount            1243241 non-null  float64\n",
            "dtypes: float64(3), int64(2), object(2)\n",
            "memory usage: 66.4+ MB\n"
          ],
          "name": "stdout"
        }
      ]
    },
    {
      "cell_type": "code",
      "metadata": {
        "colab": {
          "base_uri": "https://localhost:8080/",
          "height": 294
        },
        "id": "2y1WZvWdUcIz",
        "outputId": "5fc098bb-3edc-4b59-ef2e-45c5ae1ef22a"
      },
      "source": [
        "data.describe()"
      ],
      "execution_count": 35,
      "outputs": [
        {
          "output_type": "execute_result",
          "data": {
            "text/html": [
              "<div>\n",
              "<style scoped>\n",
              "    .dataframe tbody tr th:only-of-type {\n",
              "        vertical-align: middle;\n",
              "    }\n",
              "\n",
              "    .dataframe tbody tr th {\n",
              "        vertical-align: top;\n",
              "    }\n",
              "\n",
              "    .dataframe thead th {\n",
              "        text-align: right;\n",
              "    }\n",
              "</style>\n",
              "<table border=\"1\" class=\"dataframe\">\n",
              "  <thead>\n",
              "    <tr style=\"text-align: right;\">\n",
              "      <th></th>\n",
              "      <th>VendorID</th>\n",
              "      <th>passenger_count</th>\n",
              "      <th>PULocationID</th>\n",
              "      <th>DOLocationID</th>\n",
              "      <th>fare_amount</th>\n",
              "    </tr>\n",
              "  </thead>\n",
              "  <tbody>\n",
              "    <tr>\n",
              "      <th>count</th>\n",
              "      <td>1,227,632.0000</td>\n",
              "      <td>1,227,632.0000</td>\n",
              "      <td>1,243,241.0000</td>\n",
              "      <td>1,243,241.0000</td>\n",
              "      <td>1,243,241.0000</td>\n",
              "    </tr>\n",
              "    <tr>\n",
              "      <th>mean</th>\n",
              "      <td>1.6768</td>\n",
              "      <td>1.5687</td>\n",
              "      <td>162.7453</td>\n",
              "      <td>160.7467</td>\n",
              "      <td>13.0298</td>\n",
              "    </tr>\n",
              "    <tr>\n",
              "      <th>std</th>\n",
              "      <td>0.4677</td>\n",
              "      <td>1.1818</td>\n",
              "      <td>66.1079</td>\n",
              "      <td>70.9818</td>\n",
              "      <td>12.9396</td>\n",
              "    </tr>\n",
              "    <tr>\n",
              "      <th>min</th>\n",
              "      <td>1.0000</td>\n",
              "      <td>0.0000</td>\n",
              "      <td>1.0000</td>\n",
              "      <td>1.0000</td>\n",
              "      <td>-1,238.0000</td>\n",
              "    </tr>\n",
              "    <tr>\n",
              "      <th>25%</th>\n",
              "      <td>1.0000</td>\n",
              "      <td>1.0000</td>\n",
              "      <td>125.0000</td>\n",
              "      <td>107.0000</td>\n",
              "      <td>6.0000</td>\n",
              "    </tr>\n",
              "    <tr>\n",
              "      <th>50%</th>\n",
              "      <td>2.0000</td>\n",
              "      <td>1.0000</td>\n",
              "      <td>161.0000</td>\n",
              "      <td>162.0000</td>\n",
              "      <td>9.0000</td>\n",
              "    </tr>\n",
              "    <tr>\n",
              "      <th>75%</th>\n",
              "      <td>2.0000</td>\n",
              "      <td>2.0000</td>\n",
              "      <td>233.0000</td>\n",
              "      <td>233.0000</td>\n",
              "      <td>14.0000</td>\n",
              "    </tr>\n",
              "    <tr>\n",
              "      <th>max</th>\n",
              "      <td>2.0000</td>\n",
              "      <td>9.0000</td>\n",
              "      <td>265.0000</td>\n",
              "      <td>265.0000</td>\n",
              "      <td>1,238.0000</td>\n",
              "    </tr>\n",
              "  </tbody>\n",
              "</table>\n",
              "</div>"
            ],
            "text/plain": [
              "            VendorID  passenger_count  ...   DOLocationID    fare_amount\n",
              "count 1,227,632.0000   1,227,632.0000  ... 1,243,241.0000 1,243,241.0000\n",
              "mean          1.6768           1.5687  ...       160.7467        13.0298\n",
              "std           0.4677           1.1818  ...        70.9818        12.9396\n",
              "min           1.0000           0.0000  ...         1.0000    -1,238.0000\n",
              "25%           1.0000           1.0000  ...       107.0000         6.0000\n",
              "50%           2.0000           1.0000  ...       162.0000         9.0000\n",
              "75%           2.0000           2.0000  ...       233.0000        14.0000\n",
              "max           2.0000           9.0000  ...       265.0000     1,238.0000\n",
              "\n",
              "[8 rows x 5 columns]"
            ]
          },
          "metadata": {
            "tags": []
          },
          "execution_count": 35
        }
      ]
    },
    {
      "cell_type": "code",
      "metadata": {
        "colab": {
          "base_uri": "https://localhost:8080/"
        },
        "id": "P9lYlITyTqD1",
        "outputId": "d1bca6a4-6548-4856-8295-3827910f1e23"
      },
      "source": [
        "#5\n",
        "data3=    data[((data['VendorID']==2.0000) &(data['fare_amount']< 13.0298) &  (data['passenger_count']> 5.0))]\n",
        "data3['PickUpDate'] = pd.to_datetime(data3['tpep_pickup_datetime']) \n",
        "data3['PickUpdayOfWeek'] = data3['PickUpDate'].dt.day_name()\n",
        "\n",
        "data3['DropOfDate'] = pd.to_datetime(data3['tpep_dropoff_datetime']) \n",
        "data3['DropOfdayOfWeek'] = data3['DropOfDate'].dt.day_name()\n",
        "\n",
        "data5= data3.value_counts(['PickUpdayOfWeek'])\n",
        "data5.sort_values()\n",
        "\n",
        "data6= data3.value_counts(['DropOfdayOfWeek'])\n",
        "data6.sort_values()"
      ],
      "execution_count": 75,
      "outputs": [
        {
          "output_type": "stream",
          "text": [
            "/usr/local/lib/python3.6/dist-packages/ipykernel_launcher.py:3: SettingWithCopyWarning: \n",
            "A value is trying to be set on a copy of a slice from a DataFrame.\n",
            "Try using .loc[row_indexer,col_indexer] = value instead\n",
            "\n",
            "See the caveats in the documentation: https://pandas.pydata.org/pandas-docs/stable/user_guide/indexing.html#returning-a-view-versus-a-copy\n",
            "  This is separate from the ipykernel package so we can avoid doing imports until\n",
            "/usr/local/lib/python3.6/dist-packages/ipykernel_launcher.py:4: SettingWithCopyWarning: \n",
            "A value is trying to be set on a copy of a slice from a DataFrame.\n",
            "Try using .loc[row_indexer,col_indexer] = value instead\n",
            "\n",
            "See the caveats in the documentation: https://pandas.pydata.org/pandas-docs/stable/user_guide/indexing.html#returning-a-view-versus-a-copy\n",
            "  after removing the cwd from sys.path.\n",
            "/usr/local/lib/python3.6/dist-packages/ipykernel_launcher.py:6: SettingWithCopyWarning: \n",
            "A value is trying to be set on a copy of a slice from a DataFrame.\n",
            "Try using .loc[row_indexer,col_indexer] = value instead\n",
            "\n",
            "See the caveats in the documentation: https://pandas.pydata.org/pandas-docs/stable/user_guide/indexing.html#returning-a-view-versus-a-copy\n",
            "  \n",
            "/usr/local/lib/python3.6/dist-packages/ipykernel_launcher.py:7: SettingWithCopyWarning: \n",
            "A value is trying to be set on a copy of a slice from a DataFrame.\n",
            "Try using .loc[row_indexer,col_indexer] = value instead\n",
            "\n",
            "See the caveats in the documentation: https://pandas.pydata.org/pandas-docs/stable/user_guide/indexing.html#returning-a-view-versus-a-copy\n",
            "  import sys\n"
          ],
          "name": "stderr"
        },
        {
          "output_type": "execute_result",
          "data": {
            "text/plain": [
              "DropOfdayOfWeek\n",
              "Sunday             2505\n",
              "Thursday           2618\n",
              "Wednesday          2628\n",
              "Monday             2663\n",
              "Friday             2895\n",
              "Tuesday            3062\n",
              "Saturday           3072\n",
              "dtype: int64"
            ]
          },
          "metadata": {
            "tags": []
          },
          "execution_count": 75
        }
      ]
    },
    {
      "cell_type": "code",
      "metadata": {
        "id": "QhXJzZ5OWLUD"
      },
      "source": [
        "data.unique()"
      ],
      "execution_count": null,
      "outputs": []
    },
    {
      "cell_type": "code",
      "metadata": {
        "colab": {
          "base_uri": "https://localhost:8080/"
        },
        "id": "kW0NTVHjpV-8",
        "outputId": "da2ad08e-edc3-436e-cfd5-8e498af86702"
      },
      "source": [
        "pd.unique(data['passenger_count'])"
      ],
      "execution_count": 49,
      "outputs": [
        {
          "output_type": "execute_result",
          "data": {
            "text/plain": [
              "array([ 1.,  2.,  3.,  6.,  4.,  5.,  0.,  8.,  7.,  9., nan])"
            ]
          },
          "metadata": {
            "tags": []
          },
          "execution_count": 49
        }
      ]
    },
    {
      "cell_type": "code",
      "metadata": {
        "colab": {
          "base_uri": "https://localhost:8080/"
        },
        "id": "CwUfrW8nNb1J",
        "outputId": "daaa155b-c36f-4779-d61e-ab855e2f5850"
      },
      "source": [
        "#3\n",
        "t=data.groupby(['PULocationID']).count()\n",
        "data1= data.value_counts(['PULocationID'])\n",
        "data1.sort_values().tail()"
      ],
      "execution_count": 31,
      "outputs": [
        {
          "output_type": "execute_result",
          "data": {
            "text/plain": [
              "PULocationID\n",
              "186             44809\n",
              "236             48450\n",
              "161             49558\n",
              "237             52055\n",
              "132             53790\n",
              "dtype: int64"
            ]
          },
          "metadata": {
            "tags": []
          },
          "execution_count": 31
        }
      ]
    },
    {
      "cell_type": "code",
      "metadata": {
        "colab": {
          "base_uri": "https://localhost:8080/"
        },
        "id": "joQ-O1pyTinj",
        "outputId": "4a43ae04-59c3-4662-a5fb-c11d2493e8dc"
      },
      "source": [
        "data_new1= data.copy()\n",
        "data_new1['passenger_count'].fillna(data_new1['passenger_count'].median(), inplace= True)\n",
        "data_new1.median()"
      ],
      "execution_count": 86,
      "outputs": [
        {
          "output_type": "execute_result",
          "data": {
            "text/plain": [
              "VendorID            2.0000\n",
              "passenger_count     1.0000\n",
              "PULocationID      161.0000\n",
              "DOLocationID      162.0000\n",
              "fare_amount         9.0000\n",
              "dtype: float64"
            ]
          },
          "metadata": {
            "tags": []
          },
          "execution_count": 86
        }
      ]
    },
    {
      "cell_type": "code",
      "metadata": {
        "colab": {
          "base_uri": "https://localhost:8080/"
        },
        "id": "uackvl_UyGbp",
        "outputId": "57946191-d60d-45b8-9ce2-5e9af5beb78f"
      },
      "source": [
        "data.isnull().sum()"
      ],
      "execution_count": 85,
      "outputs": [
        {
          "output_type": "execute_result",
          "data": {
            "text/plain": [
              "VendorID                 15609\n",
              "tpep_pickup_datetime         0\n",
              "tpep_dropoff_datetime        0\n",
              "passenger_count          15609\n",
              "PULocationID                 0\n",
              "DOLocationID                 0\n",
              "fare_amount                  0\n",
              "dtype: int64"
            ]
          },
          "metadata": {
            "tags": []
          },
          "execution_count": 85
        }
      ]
    },
    {
      "cell_type": "code",
      "metadata": {
        "colab": {
          "base_uri": "https://localhost:8080/"
        },
        "id": "Gcjp8hN7ytSv",
        "outputId": "7988022f-9ad7-4f05-e059-0d1e3a7e3ac7"
      },
      "source": [
        "data_new1.median()"
      ],
      "execution_count": 88,
      "outputs": [
        {
          "output_type": "execute_result",
          "data": {
            "text/plain": [
              "VendorID            2.0000\n",
              "passenger_count     1.0000\n",
              "PULocationID      161.0000\n",
              "DOLocationID      162.0000\n",
              "fare_amount         9.0000\n",
              "dtype: float64"
            ]
          },
          "metadata": {
            "tags": []
          },
          "execution_count": 88
        }
      ]
    },
    {
      "cell_type": "code",
      "metadata": {
        "colab": {
          "base_uri": "https://localhost:8080/"
        },
        "id": "wp578ORiy9SB",
        "outputId": "7291c54c-a869-4e3a-f24b-1b6ebff066fb"
      },
      "source": [
        "data.median()"
      ],
      "execution_count": 89,
      "outputs": [
        {
          "output_type": "execute_result",
          "data": {
            "text/plain": [
              "VendorID            2.0000\n",
              "passenger_count     1.0000\n",
              "PULocationID      161.0000\n",
              "DOLocationID      162.0000\n",
              "fare_amount         9.0000\n",
              "dtype: float64"
            ]
          },
          "metadata": {
            "tags": []
          },
          "execution_count": 89
        }
      ]
    },
    {
      "cell_type": "code",
      "metadata": {
        "colab": {
          "base_uri": "https://localhost:8080/"
        },
        "id": "0QtaZgFszJfw",
        "outputId": "01480bb3-61c9-4403-8b42-5fb60b48f63d"
      },
      "source": [
        "data['passenger_count'].value_counts()"
      ],
      "execution_count": 91,
      "outputs": [
        {
          "output_type": "execute_result",
          "data": {
            "text/plain": [
              "1.0000    847452\n",
              "2.0000    200439\n",
              "3.0000     56019\n",
              "5.0000     45092\n",
              "4.0000     31127\n",
              "6.0000     26542\n",
              "0.0000     20939\n",
              "7.0000        11\n",
              "8.0000         6\n",
              "9.0000         5\n",
              "Name: passenger_count, dtype: int64"
            ]
          },
          "metadata": {
            "tags": []
          },
          "execution_count": 91
        }
      ]
    },
    {
      "cell_type": "code",
      "metadata": {
        "colab": {
          "base_uri": "https://localhost:8080/"
        },
        "id": "nQuTe0MXzeD4",
        "outputId": "b0958585-c1ad-45c4-fd4f-5cf197d04a87"
      },
      "source": [
        "data_new2= data.copy()\n",
        "data_new2['passenger_count'].fillna(847452, inplace= True)\n",
        "data_new2.median()"
      ],
      "execution_count": 92,
      "outputs": [
        {
          "output_type": "execute_result",
          "data": {
            "text/plain": [
              "VendorID            2.0000\n",
              "passenger_count     1.0000\n",
              "PULocationID      161.0000\n",
              "DOLocationID      162.0000\n",
              "fare_amount         9.0000\n",
              "dtype: float64"
            ]
          },
          "metadata": {
            "tags": []
          },
          "execution_count": 92
        }
      ]
    },
    {
      "cell_type": "code",
      "metadata": {
        "colab": {
          "base_uri": "https://localhost:8080/"
        },
        "id": "wgvEsgUe0K-a",
        "outputId": "46786034-12b5-4e63-c4fe-5b769a0d1b51"
      },
      "source": [
        "#4\n",
        "data['PickUpDate'] = pd.to_datetime(data['tpep_pickup_datetime']) \n",
        "data['PickUpdayOfWeek'] = data['PickUpDate'].dt.day_name()\n",
        "\n",
        "data['DropOfDate'] = pd.to_datetime(data['tpep_dropoff_datetime']) \n",
        "data['DropOfdayOfWeek'] = data['DropOfDate'].dt.day_name()\n",
        "\n",
        "data5= data.value_counts(['PickUpdayOfWeek'])\n",
        "data5.sort_values()\n",
        "\n",
        "data7= data.value_counts(['DropOfdayOfWeek'])\n",
        "data7.sort_values()\n",
        "\n"
      ],
      "execution_count": 96,
      "outputs": [
        {
          "output_type": "execute_result",
          "data": {
            "text/plain": [
              "DropOfdayOfWeek\n",
              "Thursday           162053\n",
              "Sunday             165612\n",
              "Wednesday          169470\n",
              "Monday             179696\n",
              "Saturday           182314\n",
              "Friday             182810\n",
              "Tuesday            201286\n",
              "dtype: int64"
            ]
          },
          "metadata": {
            "tags": []
          },
          "execution_count": 96
        }
      ]
    },
    {
      "cell_type": "code",
      "metadata": {
        "colab": {
          "base_uri": "https://localhost:8080/",
          "height": 609
        },
        "id": "biukUNNi1Ng7",
        "outputId": "9d05f5ae-9395-4afc-b5ab-ba725b77afd1"
      },
      "source": [
        "import numpy as np\n",
        "data['date4'] =np.where(data['DropOfDate'].dt.date== data['PickUpDate'].dt.date ,0,1)\n",
        "data22=data[data['date4']==1]\n",
        "data22\n"
      ],
      "execution_count": 110,
      "outputs": [
        {
          "output_type": "execute_result",
          "data": {
            "text/html": [
              "<div>\n",
              "<style scoped>\n",
              "    .dataframe tbody tr th:only-of-type {\n",
              "        vertical-align: middle;\n",
              "    }\n",
              "\n",
              "    .dataframe tbody tr th {\n",
              "        vertical-align: top;\n",
              "    }\n",
              "\n",
              "    .dataframe thead th {\n",
              "        text-align: right;\n",
              "    }\n",
              "</style>\n",
              "<table border=\"1\" class=\"dataframe\">\n",
              "  <thead>\n",
              "    <tr style=\"text-align: right;\">\n",
              "      <th></th>\n",
              "      <th>VendorID</th>\n",
              "      <th>tpep_pickup_datetime</th>\n",
              "      <th>tpep_dropoff_datetime</th>\n",
              "      <th>passenger_count</th>\n",
              "      <th>PULocationID</th>\n",
              "      <th>DOLocationID</th>\n",
              "      <th>fare_amount</th>\n",
              "      <th>PickUpDate</th>\n",
              "      <th>PickUpdayOfWeek</th>\n",
              "      <th>DropOfDate</th>\n",
              "      <th>DropOfdayOfWeek</th>\n",
              "      <th>date4</th>\n",
              "    </tr>\n",
              "  </thead>\n",
              "  <tbody>\n",
              "    <tr>\n",
              "      <th>1114</th>\n",
              "      <td>2.0000</td>\n",
              "      <td>2020-01-01 00:30:07</td>\n",
              "      <td>2020-01-02 00:28:18</td>\n",
              "      <td>1.0000</td>\n",
              "      <td>166</td>\n",
              "      <td>166</td>\n",
              "      <td>3.5000</td>\n",
              "      <td>2020-01-01 00:30:07</td>\n",
              "      <td>Wednesday</td>\n",
              "      <td>2020-01-02 00:28:18</td>\n",
              "      <td>Thursday</td>\n",
              "      <td>1</td>\n",
              "    </tr>\n",
              "    <tr>\n",
              "      <th>1473</th>\n",
              "      <td>2.0000</td>\n",
              "      <td>2020-01-01 00:53:40</td>\n",
              "      <td>2020-01-02 00:18:40</td>\n",
              "      <td>6.0000</td>\n",
              "      <td>246</td>\n",
              "      <td>261</td>\n",
              "      <td>17.5000</td>\n",
              "      <td>2020-01-01 00:53:40</td>\n",
              "      <td>Wednesday</td>\n",
              "      <td>2020-01-02 00:18:40</td>\n",
              "      <td>Thursday</td>\n",
              "      <td>1</td>\n",
              "    </tr>\n",
              "    <tr>\n",
              "      <th>1874</th>\n",
              "      <td>2.0000</td>\n",
              "      <td>2020-01-01 00:38:39</td>\n",
              "      <td>2020-01-02 00:37:22</td>\n",
              "      <td>2.0000</td>\n",
              "      <td>114</td>\n",
              "      <td>79</td>\n",
              "      <td>6.5000</td>\n",
              "      <td>2020-01-01 00:38:39</td>\n",
              "      <td>Wednesday</td>\n",
              "      <td>2020-01-02 00:37:22</td>\n",
              "      <td>Thursday</td>\n",
              "      <td>1</td>\n",
              "    </tr>\n",
              "    <tr>\n",
              "      <th>2664</th>\n",
              "      <td>2.0000</td>\n",
              "      <td>2020-01-01 00:13:41</td>\n",
              "      <td>2020-01-02 00:11:35</td>\n",
              "      <td>1.0000</td>\n",
              "      <td>263</td>\n",
              "      <td>113</td>\n",
              "      <td>15.0000</td>\n",
              "      <td>2020-01-01 00:13:41</td>\n",
              "      <td>Wednesday</td>\n",
              "      <td>2020-01-02 00:11:35</td>\n",
              "      <td>Thursday</td>\n",
              "      <td>1</td>\n",
              "    </tr>\n",
              "    <tr>\n",
              "      <th>3256</th>\n",
              "      <td>2.0000</td>\n",
              "      <td>2020-01-01 00:28:27</td>\n",
              "      <td>2020-01-02 00:26:48</td>\n",
              "      <td>3.0000</td>\n",
              "      <td>161</td>\n",
              "      <td>142</td>\n",
              "      <td>13.5000</td>\n",
              "      <td>2020-01-01 00:28:27</td>\n",
              "      <td>Wednesday</td>\n",
              "      <td>2020-01-02 00:26:48</td>\n",
              "      <td>Thursday</td>\n",
              "      <td>1</td>\n",
              "    </tr>\n",
              "    <tr>\n",
              "      <th>...</th>\n",
              "      <td>...</td>\n",
              "      <td>...</td>\n",
              "      <td>...</td>\n",
              "      <td>...</td>\n",
              "      <td>...</td>\n",
              "      <td>...</td>\n",
              "      <td>...</td>\n",
              "      <td>...</td>\n",
              "      <td>...</td>\n",
              "      <td>...</td>\n",
              "      <td>...</td>\n",
              "      <td>...</td>\n",
              "    </tr>\n",
              "    <tr>\n",
              "      <th>1242861</th>\n",
              "      <td>nan</td>\n",
              "      <td>2020-01-07 23:59:00</td>\n",
              "      <td>2020-01-08 00:23:00</td>\n",
              "      <td>nan</td>\n",
              "      <td>232</td>\n",
              "      <td>177</td>\n",
              "      <td>25.4300</td>\n",
              "      <td>2020-01-07 23:59:00</td>\n",
              "      <td>Tuesday</td>\n",
              "      <td>2020-01-08 00:23:00</td>\n",
              "      <td>Wednesday</td>\n",
              "      <td>1</td>\n",
              "    </tr>\n",
              "    <tr>\n",
              "      <th>1242864</th>\n",
              "      <td>nan</td>\n",
              "      <td>2020-01-07 23:54:00</td>\n",
              "      <td>2020-01-08 00:39:00</td>\n",
              "      <td>nan</td>\n",
              "      <td>186</td>\n",
              "      <td>86</td>\n",
              "      <td>73.8300</td>\n",
              "      <td>2020-01-07 23:54:00</td>\n",
              "      <td>Tuesday</td>\n",
              "      <td>2020-01-08 00:39:00</td>\n",
              "      <td>Wednesday</td>\n",
              "      <td>1</td>\n",
              "    </tr>\n",
              "    <tr>\n",
              "      <th>1242865</th>\n",
              "      <td>nan</td>\n",
              "      <td>2020-01-07 23:54:00</td>\n",
              "      <td>2020-01-08 00:39:00</td>\n",
              "      <td>nan</td>\n",
              "      <td>186</td>\n",
              "      <td>86</td>\n",
              "      <td>73.8300</td>\n",
              "      <td>2020-01-07 23:54:00</td>\n",
              "      <td>Tuesday</td>\n",
              "      <td>2020-01-08 00:39:00</td>\n",
              "      <td>Wednesday</td>\n",
              "      <td>1</td>\n",
              "    </tr>\n",
              "    <tr>\n",
              "      <th>1242878</th>\n",
              "      <td>nan</td>\n",
              "      <td>2020-01-07 23:56:00</td>\n",
              "      <td>2020-01-08 00:15:00</td>\n",
              "      <td>nan</td>\n",
              "      <td>137</td>\n",
              "      <td>212</td>\n",
              "      <td>37.1500</td>\n",
              "      <td>2020-01-07 23:56:00</td>\n",
              "      <td>Tuesday</td>\n",
              "      <td>2020-01-08 00:15:00</td>\n",
              "      <td>Wednesday</td>\n",
              "      <td>1</td>\n",
              "    </tr>\n",
              "    <tr>\n",
              "      <th>1242879</th>\n",
              "      <td>nan</td>\n",
              "      <td>2020-01-07 23:56:00</td>\n",
              "      <td>2020-01-08 00:15:00</td>\n",
              "      <td>nan</td>\n",
              "      <td>137</td>\n",
              "      <td>212</td>\n",
              "      <td>37.1500</td>\n",
              "      <td>2020-01-07 23:56:00</td>\n",
              "      <td>Tuesday</td>\n",
              "      <td>2020-01-08 00:15:00</td>\n",
              "      <td>Wednesday</td>\n",
              "      <td>1</td>\n",
              "    </tr>\n",
              "  </tbody>\n",
              "</table>\n",
              "<p>10547 rows × 12 columns</p>\n",
              "</div>"
            ],
            "text/plain": [
              "         VendorID tpep_pickup_datetime  ... DropOfdayOfWeek  date4\n",
              "1114       2.0000  2020-01-01 00:30:07  ...        Thursday      1\n",
              "1473       2.0000  2020-01-01 00:53:40  ...        Thursday      1\n",
              "1874       2.0000  2020-01-01 00:38:39  ...        Thursday      1\n",
              "2664       2.0000  2020-01-01 00:13:41  ...        Thursday      1\n",
              "3256       2.0000  2020-01-01 00:28:27  ...        Thursday      1\n",
              "...           ...                  ...  ...             ...    ...\n",
              "1242861       nan  2020-01-07 23:59:00  ...       Wednesday      1\n",
              "1242864       nan  2020-01-07 23:54:00  ...       Wednesday      1\n",
              "1242865       nan  2020-01-07 23:54:00  ...       Wednesday      1\n",
              "1242878       nan  2020-01-07 23:56:00  ...       Wednesday      1\n",
              "1242879       nan  2020-01-07 23:56:00  ...       Wednesday      1\n",
              "\n",
              "[10547 rows x 12 columns]"
            ]
          },
          "metadata": {
            "tags": []
          },
          "execution_count": 110
        }
      ]
    }
  ]
}